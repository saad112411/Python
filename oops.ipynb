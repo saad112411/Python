{
  "nbformat": 4,
  "nbformat_minor": 0,
  "metadata": {
    "colab": {
      "provenance": [],
      "authorship_tag": "ABX9TyM1PwuTj8jWnDZ648JIelUN",
      "include_colab_link": true
    },
    "kernelspec": {
      "name": "python3",
      "display_name": "Python 3"
    },
    "language_info": {
      "name": "python"
    }
  },
  "cells": [
    {
      "cell_type": "markdown",
      "metadata": {
        "id": "view-in-github",
        "colab_type": "text"
      },
      "source": [
        "<a href=\"https://colab.research.google.com/github/saad112411/Python/blob/main/oops.ipynb\" target=\"_parent\"><img src=\"https://colab.research.google.com/assets/colab-badge.svg\" alt=\"Open In Colab\"/></a>"
      ]
    },
    {
      "cell_type": "code",
      "execution_count": 36,
      "metadata": {
        "id": "TN3oFPAAweJW"
      },
      "outputs": [],
      "source": [
        "class Baby:\n",
        "  def __init__(haz,M_name,F_name,Place_of_birth):\n",
        "       haz.mother=M_name\n",
        "       haz.father=F_name\n",
        "       haz.Place_of_birth=Place_of_birth\n",
        "  def Baby_Detail(haz):\n",
        "      name= input(\"Enter a baby name :\")\n",
        "      print(f\"\"\"baby name is {name} and  mother  is {haz.mother} and father name {haz.father}\n",
        "and he born in {haz.Place_of_birth}\"\"\")\n"
      ]
    },
    {
      "cell_type": "code",
      "source": [
        "hazqiel=Baby(\"sadiya khatoon\",\"sayyed amjad\",\"beed\")\n"
      ],
      "metadata": {
        "id": "FMkOOuo3x2X4"
      },
      "execution_count": 37,
      "outputs": []
    },
    {
      "cell_type": "code",
      "source": [
        "hazqiel.Baby_Detail()"
      ],
      "metadata": {
        "colab": {
          "base_uri": "https://localhost:8080/"
        },
        "id": "y7UPgtPG5jAg",
        "outputId": "fc56a815-dd19-4e52-9398-7064a426744c"
      },
      "execution_count": 38,
      "outputs": [
        {
          "output_type": "stream",
          "name": "stdout",
          "text": [
            "Enter a baby name :hazqiel\n",
            "baby name is hazqiel and  mother  is sadiya khatoon and father name sayyed amjad\n",
            "and he born in beed\n"
          ]
        }
      ]
    },
    {
      "cell_type": "code",
      "source": [
        "hazqiel.father"
      ],
      "metadata": {
        "colab": {
          "base_uri": "https://localhost:8080/",
          "height": 35
        },
        "id": "j1BSmEDMzGlC",
        "outputId": "9d77aa22-8a82-4428-c498-071a7d853b0d"
      },
      "execution_count": 22,
      "outputs": [
        {
          "output_type": "execute_result",
          "data": {
            "text/plain": [
              "'sayyed amjad'"
            ],
            "application/vnd.google.colaboratory.intrinsic+json": {
              "type": "string"
            }
          },
          "metadata": {},
          "execution_count": 22
        }
      ]
    },
    {
      "cell_type": "code",
      "source": [],
      "metadata": {
        "id": "Bahj4NpLzUr2"
      },
      "execution_count": null,
      "outputs": []
    }
  ]
}